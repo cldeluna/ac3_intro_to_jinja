{
  "nbformat": 4,
  "nbformat_minor": 0,
  "metadata": {
    "colab": {
      "provenance": []
    },
    "kernelspec": {
      "name": "python3",
      "display_name": "Python 3"
    },
    "language_info": {
      "name": "python"
    }
  },
  "cells": [
    {
      "cell_type": "markdown",
      "source": [
        "## Exercise 4 - Working with Data"
      ],
      "metadata": {
        "id": "4MwSb7Y1wEqr"
      }
    },
    {
      "cell_type": "code",
      "source": [
        "import httpx\n",
        "import jinja2\n",
        "import datetime\n",
        "from collections import Counter"
      ],
      "metadata": {
        "id": "PH0d1I6_wIvp"
      },
      "execution_count": 1,
      "outputs": []
    },
    {
      "cell_type": "code",
      "source": [
        "url = \"http://api.open-notify.org/astros.json\""
      ],
      "metadata": {
        "id": "1QeddbhowLHH"
      },
      "execution_count": 2,
      "outputs": []
    },
    {
      "cell_type": "code",
      "source": [
        "response = httpx.get(url)\n"
      ],
      "metadata": {
        "id": "9_NlPsJ1An5Y"
      },
      "execution_count": 3,
      "outputs": []
    },
    {
      "cell_type": "code",
      "source": [
        "response.raise_for_status()"
      ],
      "metadata": {
        "colab": {
          "base_uri": "https://localhost:8080/"
        },
        "id": "TGEDH0CoAq3O",
        "outputId": "09ff6320-ec1f-4722-f418-896ca7104ae1"
      },
      "execution_count": 4,
      "outputs": [
        {
          "output_type": "execute_result",
          "data": {
            "text/plain": [
              "<Response [200 OK]>"
            ]
          },
          "metadata": {},
          "execution_count": 4
        }
      ]
    },
    {
      "cell_type": "code",
      "source": [
        "payload = response.json()"
      ],
      "metadata": {
        "id": "WhwGhQqpAs2P"
      },
      "execution_count": 5,
      "outputs": []
    },
    {
      "cell_type": "code",
      "source": [
        "type(payload)"
      ],
      "metadata": {
        "colab": {
          "base_uri": "https://localhost:8080/"
        },
        "id": "rP7ujlKqAw9r",
        "outputId": "f3563876-b76a-40a6-9630-3c857f4a6ebb"
      },
      "execution_count": 6,
      "outputs": [
        {
          "output_type": "execute_result",
          "data": {
            "text/plain": [
              "dict"
            ]
          },
          "metadata": {},
          "execution_count": 6
        }
      ]
    },
    {
      "cell_type": "code",
      "source": [
        "payload"
      ],
      "metadata": {
        "id": "4VzuZvItDHPI"
      },
      "execution_count": null,
      "outputs": []
    },
    {
      "cell_type": "code",
      "source": [
        "payload.keys()"
      ],
      "metadata": {
        "id": "ocuOdSp3AyB_"
      },
      "execution_count": null,
      "outputs": []
    },
    {
      "cell_type": "code",
      "source": [
        "payload['number']"
      ],
      "metadata": {
        "id": "FKsKzLZ8Az63"
      },
      "execution_count": null,
      "outputs": []
    },
    {
      "cell_type": "code",
      "source": [
        "payload['message']"
      ],
      "metadata": {
        "id": "ZxIo3I7zA97Z"
      },
      "execution_count": null,
      "outputs": []
    },
    {
      "cell_type": "code",
      "source": [
        "payload['people']"
      ],
      "metadata": {
        "id": "UehNt-ftBAIz"
      },
      "execution_count": null,
      "outputs": []
    },
    {
      "cell_type": "markdown",
      "source": [
        "# Generate a Daily Report of the people in space\n",
        "\n",
        "Include todays timestamp and the total number of people in space."
      ],
      "metadata": {
        "id": "Q0u17bTBEBV4"
      }
    },
    {
      "cell_type": "markdown",
      "source": [
        "## Get your data into your template\n",
        "\n",
        "Script Variable ---> Template Variable  \n",
        "\n",
        "payload -----> {{ payload }}      # when you explode payload, there is no resulting variable called \"payload\"\n",
        "\n",
        "payload -----> {{ people }} # when you explode payload, you get three variables (which used to be keys) people, number, message\n",
        "\n",
        "payload -----> {{ number }}\n",
        "\n",
        "payload -----> {{ message }}\n",
        "\n",
        "payload=payload -----> {{ payload }}\n",
        "\n"
      ],
      "metadata": {
        "id": "rUPphxTdFnLK"
      }
    },
    {
      "cell_type": "code",
      "source": [
        "template_str0 = \"\"\"\n",
        "\n",
        "{{ payload['number'] }} people in space\n",
        "\n",
        "\"\"\""
      ],
      "metadata": {
        "id": "0aolD5ioFg25"
      },
      "execution_count": 43,
      "outputs": []
    },
    {
      "cell_type": "code",
      "source": [
        "# Template\n",
        "template0 = jinja2.Template(template_str0)"
      ],
      "metadata": {
        "id": "uqOTpgJ8F1oF"
      },
      "execution_count": 44,
      "outputs": []
    },
    {
      "cell_type": "markdown",
      "source": [
        "## Unnamed/Unpacked/Exploded"
      ],
      "metadata": {
        "id": "bdk8W-pLMcMB"
      }
    },
    {
      "cell_type": "code",
      "source": [
        "# Render\n",
        "output0 = template0.render(payload)"
      ],
      "metadata": {
        "id": "14QN-NlXGop1"
      },
      "execution_count": null,
      "outputs": []
    },
    {
      "cell_type": "code",
      "source": [
        "output0"
      ],
      "metadata": {
        "colab": {
          "base_uri": "https://localhost:8080/",
          "height": 35
        },
        "id": "NsoFOfeXHONe",
        "outputId": "3925e154-e5bf-4cfc-e535-7c833dd580f1"
      },
      "execution_count": 39,
      "outputs": [
        {
          "output_type": "execute_result",
          "data": {
            "text/plain": [
              "'\\n\\n\\n'"
            ],
            "application/vnd.google.colaboratory.intrinsic+json": {
              "type": "string"
            }
          },
          "metadata": {},
          "execution_count": 39
        }
      ]
    },
    {
      "cell_type": "code",
      "source": [
        "print(output0)"
      ],
      "metadata": {
        "colab": {
          "base_uri": "https://localhost:8080/"
        },
        "id": "3XDoCM9iGug8",
        "outputId": "97cde40c-deb4-45a7-a7f1-7fe5bde11c50"
      },
      "execution_count": 40,
      "outputs": [
        {
          "output_type": "stream",
          "name": "stdout",
          "text": [
            "\n",
            "\n",
            "\n",
            "\n"
          ]
        }
      ]
    },
    {
      "cell_type": "markdown",
      "source": [
        "### Named"
      ],
      "metadata": {
        "id": "TfeJhIRfMgSI"
      }
    },
    {
      "cell_type": "code",
      "source": [
        "output0 = template0.render(payload=payload)"
      ],
      "metadata": {
        "id": "GOgvy2FTF1a8"
      },
      "execution_count": 46,
      "outputs": []
    },
    {
      "cell_type": "code",
      "source": [
        "output0"
      ],
      "metadata": {
        "colab": {
          "base_uri": "https://localhost:8080/",
          "height": 35
        },
        "id": "1hieCNPAGF9Y",
        "outputId": "3e2d64f3-3106-4b66-d514-2cb99ca94d54"
      },
      "execution_count": 47,
      "outputs": [
        {
          "output_type": "execute_result",
          "data": {
            "text/plain": [
              "'\\n\\n12 people in space\\n'"
            ],
            "application/vnd.google.colaboratory.intrinsic+json": {
              "type": "string"
            }
          },
          "metadata": {},
          "execution_count": 47
        }
      ]
    },
    {
      "cell_type": "markdown",
      "source": [
        "## Option 1 - Send distinct variables"
      ],
      "metadata": {
        "id": "ad_TLYS7EIwQ"
      }
    },
    {
      "cell_type": "code",
      "source": [
        "template_str1 = \"\"\"\n",
        "People in Space\n",
        "===============\n",
        "\n",
        "Total: {{ people | length }}\n",
        "As of: {{ timestamp.strftime('%A, %B %d, %Y at %I:%M %p') }}\n",
        "\n",
        "{% for person in people %}\n",
        "- {{ person['name'] }} ({{ person['craft'] }})\n",
        "{% endfor %}\n",
        "\"\"\""
      ],
      "metadata": {
        "id": "zFJv66KLELCe"
      },
      "execution_count": 48,
      "outputs": []
    },
    {
      "cell_type": "code",
      "source": [
        "# Template\n",
        "template1 = jinja2.Template(template_str1)"
      ],
      "metadata": {
        "id": "ycmOPUGVEY4u"
      },
      "execution_count": 49,
      "outputs": []
    },
    {
      "cell_type": "code",
      "source": [
        "# Render the Template with the Data\n",
        "output1 = template1.render(people=payload, timestamp=datetime.datetime.now())"
      ],
      "metadata": {
        "id": "NLBk3ofXE0rQ"
      },
      "execution_count": 50,
      "outputs": []
    },
    {
      "cell_type": "code",
      "source": [
        "print(output1)"
      ],
      "metadata": {
        "id": "04B9Yd6zJrKu",
        "colab": {
          "base_uri": "https://localhost:8080/"
        },
        "outputId": "c615a1b4-4b42-42c0-c836-731cb664e534"
      },
      "execution_count": 51,
      "outputs": [
        {
          "output_type": "stream",
          "name": "stdout",
          "text": [
            "\n",
            "People in Space\n",
            "===============\n",
            "\n",
            "Total: 3\n",
            "As of: Saturday, May 03, 2025 at 12:50 PM\n",
            "\n",
            "\n",
            "-  ()\n",
            "\n",
            "-  ()\n",
            "\n",
            "-  ()\n",
            "\n"
          ]
        }
      ]
    },
    {
      "cell_type": "code",
      "source": [
        "len(payload)"
      ],
      "metadata": {
        "id": "QSsSna5bJ2Op",
        "colab": {
          "base_uri": "https://localhost:8080/"
        },
        "outputId": "eb1343ce-ce82-40ec-f9df-15cd45f48853"
      },
      "execution_count": 52,
      "outputs": [
        {
          "output_type": "execute_result",
          "data": {
            "text/plain": [
              "3"
            ]
          },
          "metadata": {},
          "execution_count": 52
        }
      ]
    },
    {
      "cell_type": "markdown",
      "source": [
        "# Option 2 - Send one big payload file\n",
        "\n",
        "I want to have more data in my report.\n",
        "- todays timestamp\n",
        "- total people in each craft"
      ],
      "metadata": {
        "id": "kndU_fxcJV-0"
      }
    },
    {
      "cell_type": "code",
      "source": [
        "payload.keys()"
      ],
      "metadata": {
        "colab": {
          "base_uri": "https://localhost:8080/"
        },
        "id": "B6taDiPdM1rx",
        "outputId": "5eb72532-d13c-4f9d-b482-6f8580ae7996"
      },
      "execution_count": 57,
      "outputs": [
        {
          "output_type": "execute_result",
          "data": {
            "text/plain": [
              "dict_keys(['people', 'number', 'message', 'timestamp', 'craft_counts'])"
            ]
          },
          "metadata": {},
          "execution_count": 57
        }
      ]
    },
    {
      "cell_type": "code",
      "source": [
        "# Count the number of people on each craft\n",
        "craft_counts = Counter(person['craft'] for person in payload['people'])"
      ],
      "metadata": {
        "id": "JZjq0N6DBEQe"
      },
      "execution_count": 53,
      "outputs": []
    },
    {
      "cell_type": "code",
      "source": [
        "craft_counts"
      ],
      "metadata": {
        "id": "ZhESP2QqBkrN",
        "colab": {
          "base_uri": "https://localhost:8080/"
        },
        "outputId": "0a5110b0-4a34-470a-b361-cade230f4815"
      },
      "execution_count": 54,
      "outputs": [
        {
          "output_type": "execute_result",
          "data": {
            "text/plain": [
              "Counter({'ISS': 9, 'Tiangong': 3})"
            ]
          },
          "metadata": {},
          "execution_count": 54
        }
      ]
    },
    {
      "cell_type": "code",
      "source": [
        "# Add timestamp\n",
        "payload['timestamp'] = datetime.datetime.now().strftime('%A, %B %d, %Y at %I:%M %p')\n",
        "payload['craft_counts'] = craft_counts"
      ],
      "metadata": {
        "id": "SKuA94o8Bxi8"
      },
      "execution_count": 55,
      "outputs": []
    },
    {
      "cell_type": "code",
      "source": [
        "payload.keys()"
      ],
      "metadata": {
        "id": "hXlVoYRcJQem",
        "colab": {
          "base_uri": "https://localhost:8080/"
        },
        "outputId": "b52c3da3-0b8d-4dda-8c59-84a56c7f091d"
      },
      "execution_count": 56,
      "outputs": [
        {
          "output_type": "execute_result",
          "data": {
            "text/plain": [
              "dict_keys(['people', 'number', 'message', 'timestamp', 'craft_counts'])"
            ]
          },
          "metadata": {},
          "execution_count": 56
        }
      ]
    },
    {
      "cell_type": "code",
      "source": [
        "# Jinja2 template\n",
        "template_str2 = \"\"\"\n",
        "People in Space\n",
        "===============\n",
        "\n",
        "Total: {{ payload[\"number\"] }}\n",
        "Craft Totals:\n",
        "{% for craft, count in payload[\"craft_counts\"].items() %}\n",
        "- {{ craft }}: {{ count }}\n",
        "{% endfor %}\n",
        "As of: {{ payload[\"timestamp\"] }}\n",
        "\n",
        "{% for person in payload[\"people\"] %}\n",
        "- {{ person[\"name\"] }} ({{ person[\"craft\"] }})\n",
        "{% endfor %}\n",
        "\"\"\""
      ],
      "metadata": {
        "id": "SOjHEXZKD5-b"
      },
      "execution_count": null,
      "outputs": []
    },
    {
      "cell_type": "code",
      "source": [
        "template_obj2 = jinja2.Template(template_str2)"
      ],
      "metadata": {
        "id": "Qxy1Ox3EMzs6"
      },
      "execution_count": null,
      "outputs": []
    },
    {
      "cell_type": "code",
      "source": [
        "output2 = template_obj2.render(payload=payload)"
      ],
      "metadata": {
        "id": "41z5eND-M-3q"
      },
      "execution_count": null,
      "outputs": []
    },
    {
      "cell_type": "code",
      "source": [
        "print(output2)"
      ],
      "metadata": {
        "id": "d7v2n8Y_N8Q6"
      },
      "execution_count": null,
      "outputs": []
    },
    {
      "cell_type": "code",
      "source": [],
      "metadata": {
        "id": "YTbPpsqeNqcs"
      },
      "execution_count": null,
      "outputs": []
    }
  ]
}