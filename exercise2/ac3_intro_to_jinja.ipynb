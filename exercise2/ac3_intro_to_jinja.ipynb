{
  "nbformat": 4,
  "nbformat_minor": 0,
  "metadata": {
    "colab": {
      "provenance": []
    },
    "kernelspec": {
      "name": "python3",
      "display_name": "Python 3"
    },
    "language_info": {
      "name": "python"
    }
  },
  "cells": [
    {
      "cell_type": "markdown",
      "source": [
        "# AutoCon3 Introduction to jinja\n",
        "\n"
      ],
      "metadata": {
        "id": "dRFFF9PT6K5z"
      }
    },
    {
      "cell_type": "code",
      "source": [
        "# pip install jinja2"
      ],
      "metadata": {
        "id": "iDPE2PFK6G3G"
      },
      "execution_count": 8,
      "outputs": []
    },
    {
      "cell_type": "markdown",
      "source": [
        "jinja2 already available in colab environment"
      ],
      "metadata": {
        "id": "9tAXqg_N64Bi"
      }
    },
    {
      "cell_type": "code",
      "source": [
        "tmp_str = \"I am in {{ city }}\""
      ],
      "metadata": {
        "id": "gjOcYi3j6Vj3"
      },
      "execution_count": 3,
      "outputs": []
    },
    {
      "cell_type": "code",
      "source": [
        "import jinja2 as j2"
      ],
      "metadata": {
        "id": "U1DbrbgJ6e0C"
      },
      "execution_count": 4,
      "outputs": []
    },
    {
      "cell_type": "code",
      "source": [
        "t = j2.Template(tmp_str)"
      ],
      "metadata": {
        "id": "VY2sjx3O6jA5"
      },
      "execution_count": 5,
      "outputs": []
    },
    {
      "cell_type": "code",
      "source": [
        "result = t.render(city=\"Denver\")"
      ],
      "metadata": {
        "id": "GImQdlY-6m3q"
      },
      "execution_count": 6,
      "outputs": []
    },
    {
      "cell_type": "code",
      "source": [
        "print(result)"
      ],
      "metadata": {
        "colab": {
          "base_uri": "https://localhost:8080/"
        },
        "id": "dNakHMHN6ri0",
        "outputId": "f4dbef39-2097-4a2c-ae78-321c9eddc313"
      },
      "execution_count": 7,
      "outputs": [
        {
          "output_type": "stream",
          "name": "stdout",
          "text": [
            "I am in Denver\n"
          ]
        }
      ]
    },
    {
      "cell_type": "code",
      "source": [
        "mydict = {\"city\": \"Los Angeles\"}"
      ],
      "metadata": {
        "id": "VezIJuPu6s_L"
      },
      "execution_count": 9,
      "outputs": []
    },
    {
      "cell_type": "code",
      "source": [
        "result2 = t.render(mydict)"
      ],
      "metadata": {
        "id": "pFd-5kzV7DcK"
      },
      "execution_count": 10,
      "outputs": []
    },
    {
      "cell_type": "code",
      "source": [
        "print(result2)"
      ],
      "metadata": {
        "colab": {
          "base_uri": "https://localhost:8080/"
        },
        "id": "HBup1yJ97Hd9",
        "outputId": "cc3534eb-9a93-4dcd-fc47-919b8d1a0086"
      },
      "execution_count": 11,
      "outputs": [
        {
          "output_type": "stream",
          "name": "stdout",
          "text": [
            "I am in Los Angeles\n"
          ]
        }
      ]
    },
    {
      "cell_type": "code",
      "source": [],
      "metadata": {
        "id": "OMCA4N4Q7JBl"
      },
      "execution_count": null,
      "outputs": []
    }
  ]
}